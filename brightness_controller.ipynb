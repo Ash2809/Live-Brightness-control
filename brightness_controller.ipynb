{
 "cells": [
  {
   "cell_type": "code",
   "execution_count": 27,
   "metadata": {},
   "outputs": [],
   "source": [
    "import mediapipe as mp\n",
    "import numpy as np\n",
    "import screen_brightness_control as control\n",
    "import cv2\n",
    "from math import hypot"
   ]
  },
  {
   "cell_type": "code",
   "execution_count": 31,
   "metadata": {},
   "outputs": [],
   "source": [
    "mp_hands = mp.solutions.hands\n",
    "hands = mp_hands.Hands()\n",
    "mp_draw = mp.solutions.drawing_utils\n",
    "\n",
    "cap = cv2.VideoCapture(0)\n",
    "\n",
    "while(True):\n",
    "    r,frame = cap.read()\n",
    "\n",
    "    if r == True:\n",
    "        frame = cv2.flip(frame,1)\n",
    "        rgb_frame = cv2.cvtColor(frame,cv2.COLOR_BGR2RGB)\n",
    "        frame = cv2.resize(frame,(750,750))\n",
    "\n",
    "        results = hands.process(rgb_frame)\n",
    "        landmark_list = []\n",
    "\n",
    "        if results.multi_hand_landmarks:\n",
    "            for hand_landmark in results.multi_hand_landmarks:\n",
    "                for id,lm in enumerate(hand_landmark.landmark):\n",
    "                    height,width,_ = frame.shape\n",
    "                    centre_x = int(lm.x * width)\n",
    "                    centre_y = int(lm.y * height)\n",
    "                    landmark_list.append([id,centre_x,centre_y])\n",
    "                    \n",
    "                    mp_draw.draw_landmarks(frame,hand_landmark,mp_hands.HAND_CONNECTIONS)\n",
    "\n",
    "        if landmark_list:\n",
    "            x1,y1 = landmark_list[4][1],landmark_list[4][2]\n",
    "            x2,y2 = landmark_list[8][1],landmark_list[8][2]\n",
    "\n",
    "            cv2.circle(img = frame,center = (x1,y1),radius = 5,color = (0,255,0),thickness = cv2.FILLED)\n",
    "            cv2.circle(img = frame,center = (x2,y2),radius = 5,color = (0,255,0),thickness = cv2.FILLED)\n",
    "            cv2.line(frame,(x1,y1),(x2,y2),(0,0,255),5)\n",
    "\n",
    "            euclidean_length = hypot(x2-x1,y2-y1)\n",
    "            brightness = np.interp(euclidean_length, [10,220],[0,100])\n",
    "\n",
    "            control.set_brightness(int(brightness))\n",
    "\n",
    "        cv2.imshow(\"LIVE\",frame)\n",
    "        if cv2.waitKey(1) & 0xff == ord(\"p\"):\n",
    "            break\n",
    "\n",
    "cv2.destroyAllWindows()\n"
   ]
  },
  {
   "cell_type": "code",
   "execution_count": null,
   "metadata": {},
   "outputs": [],
   "source": []
  }
 ],
 "metadata": {
  "kernelspec": {
   "display_name": "vision",
   "language": "python",
   "name": "python3"
  },
  "language_info": {
   "codemirror_mode": {
    "name": "ipython",
    "version": 3
   },
   "file_extension": ".py",
   "mimetype": "text/x-python",
   "name": "python",
   "nbconvert_exporter": "python",
   "pygments_lexer": "ipython3",
   "version": "3.11.9"
  }
 },
 "nbformat": 4,
 "nbformat_minor": 2
}
